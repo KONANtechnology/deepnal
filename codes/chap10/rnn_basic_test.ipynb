{
 "cells": [
  {
   "cell_type": "code",
   "execution_count": 1,
   "metadata": {},
   "outputs": [],
   "source": [
    "%run ../chap10/rnn_basic_model.ipynb\n",
    "%run ../chap10/dataset_automata.ipynb"
   ]
  },
  {
   "cell_type": "code",
   "execution_count": 2,
   "metadata": {},
   "outputs": [],
   "source": [
    "ad = AutomataDataset()\n",
    "\n",
    "am_2 = RnnBasicModel('am_2', ad, ['rnn', {'recur_size':2, 'outseq':False}])\n",
    "am_4 = RnnBasicModel('am_4', ad, ['rnn', {'recur_size':4, 'outseq':False}])\n",
    "am_8 = RnnBasicModel('am_8', ad, ['rnn', {'recur_size':8, 'outseq':False}])"
   ]
  },
  {
   "cell_type": "code",
   "execution_count": 3,
   "metadata": {},
   "outputs": [
    {
     "name": "stdout",
     "output_type": "stream",
     "text": [
      "Model am_2 train started:\n",
      "    Epoch 2: cost=0.318, accuracy=0.903/0.880 (2/2 secs)\n",
      "    Epoch 4: cost=0.258, accuracy=0.903/0.870 (2/4 secs)\n",
      "    Epoch 6: cost=0.214, accuracy=0.928/0.840 (2/6 secs)\n",
      "    Epoch 8: cost=0.191, accuracy=0.939/0.930 (2/8 secs)\n",
      "    Epoch 10: cost=0.141, accuracy=0.959/0.990 (2/10 secs)\n",
      "Model am_2 train ended in 10 secs:\n",
      "Model am_2 test report: accuracy = 0.969, (0 secs)\n",
      "\n",
      "Model am_2 Visualization\n",
      "PXSP: 잘못된 패턴 => 탈락추정(0.00) : O\n",
      "VVPS: 올바른 패턴 => 합격추정(0.82) : O\n",
      "VXXVPS: 올바른 패턴 => 합격추정(0.92) : O\n"
     ]
    }
   ],
   "source": [
    "am_2.exec_all(epoch_count=10, report=2)"
   ]
  },
  {
   "cell_type": "code",
   "execution_count": 4,
   "metadata": {},
   "outputs": [
    {
     "name": "stdout",
     "output_type": "stream",
     "text": [
      "Model am_4 train started:\n",
      "    Epoch 2: cost=0.185, accuracy=0.942/0.910 (2/2 secs)\n",
      "    Epoch 4: cost=0.094, accuracy=0.974/0.970 (2/4 secs)\n",
      "    Epoch 6: cost=0.081, accuracy=0.979/0.970 (2/6 secs)\n",
      "    Epoch 8: cost=0.067, accuracy=0.984/0.990 (2/8 secs)\n",
      "    Epoch 10: cost=0.087, accuracy=0.978/0.990 (2/10 secs)\n",
      "Model am_4 train ended in 10 secs:\n",
      "Model am_4 test report: accuracy = 0.990, (0 secs)\n",
      "\n",
      "Model am_4 Visualization\n",
      "TPTS: 올바른 패턴 => 합격추정(0.96) : O\n",
      "VXVS: 올바른 패턴 => 합격추정(0.96) : O\n",
      "TTXVS: 올바른 패턴 => 합격추정(0.97) : O\n"
     ]
    }
   ],
   "source": [
    "am_4.exec_all(epoch_count=10, report=2)"
   ]
  },
  {
   "cell_type": "code",
   "execution_count": 5,
   "metadata": {},
   "outputs": [
    {
     "name": "stdout",
     "output_type": "stream",
     "text": [
      "Model am_8 train started:\n",
      "    Epoch 2: cost=0.105, accuracy=0.970/0.960 (2/2 secs)\n",
      "    Epoch 4: cost=0.064, accuracy=0.983/1.000 (2/4 secs)\n",
      "    Epoch 6: cost=0.059, accuracy=0.984/0.980 (2/6 secs)\n",
      "    Epoch 8: cost=0.066, accuracy=0.983/1.000 (2/8 secs)\n",
      "    Epoch 10: cost=0.042, accuracy=0.991/0.980 (2/10 secs)\n",
      "Model am_8 train ended in 10 secs:\n",
      "Model am_8 test report: accuracy = 0.987, (0 secs)\n",
      "\n",
      "Model am_8 Visualization\n",
      "PXTX: 잘못된 패턴 => 탈락추정(0.00) : O\n",
      "TPPTS: 올바른 패턴 => 합격추정(0.95) : O\n",
      "TTXXVPXVPS: 올바른 패턴 => 합격추정(0.98) : O\n"
     ]
    }
   ],
   "source": [
    "am_8.exec_all(epoch_count=10, report=2)"
   ]
  }
 ],
 "metadata": {
  "kernelspec": {
   "display_name": "Python 3",
   "language": "python",
   "name": "python3"
  },
  "language_info": {
   "codemirror_mode": {
    "name": "ipython",
    "version": 3
   },
   "file_extension": ".py",
   "mimetype": "text/x-python",
   "name": "python",
   "nbconvert_exporter": "python",
   "pygments_lexer": "ipython3",
   "version": "3.4.3"
  }
 },
 "nbformat": 4,
 "nbformat_minor": 2
}
