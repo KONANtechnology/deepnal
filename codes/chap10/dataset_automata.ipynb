{
 "cells": [
  {
   "cell_type": "code",
   "execution_count": 1,
   "metadata": {},
   "outputs": [],
   "source": [
    "%run ../chap05/dataset.ipynb"
   ]
  },
  {
   "cell_type": "code",
   "execution_count": 2,
   "metadata": {},
   "outputs": [],
   "source": [
    "MAX_LENGTH = 100\n",
    "\n",
    "ALPHABET = ['T', 'P', 'X', 'V', 'S']\n",
    "\n",
    "EDGES = [\n",
    "    [[1, 0], [3, 3]],  # 0\n",
    "    [[1, 1], [2, 0]],  # 1\n",
    "    [[3, 2], [5, 4]],  # 2\n",
    "    [[3, 2], [4, 3]],  # 3\n",
    "    [[2, 1], [5, 4]],  # 4\n",
    "    []                 # 5\n",
    "]\n",
    "\n",
    "START_STATE = 0\n",
    "END_STATES = [5]"
   ]
  },
  {
   "cell_type": "code",
   "execution_count": 3,
   "metadata": {},
   "outputs": [],
   "source": [
    "class AutomataDataset(Dataset):\n",
    "    def __init__(self):\n",
    "        super(AutomataDataset, self).__init__('automata', 'binary')\n",
    "        self.input_shape = [MAX_LENGTH+1, len(ALPHABET)]\n",
    "        self.output_shape = [1]\n",
    "\n",
    "    @property\n",
    "    def train_count(self):\n",
    "        return 10000"
   ]
  },
  {
   "cell_type": "code",
   "execution_count": 4,
   "metadata": {},
   "outputs": [],
   "source": [
    "def automata_get_train_data(self, batch_size, nth):\n",
    "    return automata_generate_data(batch_size)\n",
    "\n",
    "def automata_get_validate_data(self, count):\n",
    "    return automata_generate_data(count)\n",
    "    \n",
    "def automata_get_test_data(self):\n",
    "    return automata_generate_data(1000)\n",
    "    \n",
    "def automata_generate_data(count):\n",
    "    xs = np.zeros([count, MAX_LENGTH, 5])\n",
    "    ys = np.zeros([count, 1])\n",
    "\n",
    "    for n in range(count):\n",
    "        sent = []\n",
    "        while True:\n",
    "            sent = automata_generate_sent()\n",
    "            if len(sent) < MAX_LENGTH: break\n",
    "                \n",
    "        xs[n, 0, 0] = len(sent)\n",
    "        xs[n, 1:len(sent)+1, :] = np.eye(5)[sent]\n",
    "        ys[n, 0] = automata_is_correct_sent(sent)\n",
    "        \n",
    "    return xs, ys\n",
    "\n",
    "AutomataDataset.get_train_data = automata_get_train_data    \n",
    "AutomataDataset.get_validate_data = automata_get_validate_data    \n",
    "AutomataDataset.get_test_data = automata_get_test_data        \n",
    "AutomataDataset.get_visualize_data = automata_get_validate_data "
   ]
  },
  {
   "cell_type": "code",
   "execution_count": 5,
   "metadata": {},
   "outputs": [],
   "source": [
    "def automata_generate_sent():\n",
    "    state = START_STATE\n",
    "    sent = []\n",
    "    alpha_cnt = len(ALPHABET)\n",
    "    correct = np.random.randint(2)\n",
    "    while state not in END_STATES:\n",
    "        edge_cnt = len(EDGES[state])\n",
    "        choice = np.random.randint(edge_cnt)\n",
    "        if correct: letter = EDGES[state][choice][1]\n",
    "        else: letter = np.random.randint(alpha_cnt)\n",
    "        sent.append(letter)\n",
    "        state = EDGES[state][choice][0]\n",
    "    return sent\n",
    "\n",
    "def automata_is_correct_sent(sent):\n",
    "    state = START_STATE\n",
    "    for letter in sent:\n",
    "        edge_cnt = len(EDGES[state])\n",
    "        next_state = -1\n",
    "        for edge in EDGES[state]:\n",
    "            if letter == edge[1]:\n",
    "                next_state = edge[0]\n",
    "                break\n",
    "        if next_state < 0: return False\n",
    "        state = next_state\n",
    "    return state in END_STATES"
   ]
  },
  {
   "cell_type": "code",
   "execution_count": 6,
   "metadata": {},
   "outputs": [],
   "source": [
    "def automata_visualize(self, xs, est, ans):\n",
    "    for n in range(len(xs)):\n",
    "        length = int(xs[n, 0, 0])\n",
    "        sent = np.argmax(xs[n, 1:length+1], axis=1)\n",
    "        text = \"\".join([ALPHABET[letter] for letter in sent])\n",
    "        \n",
    "        answer, guess, result = '잘못된 패턴', '탈락추정', 'X'\n",
    "        \n",
    "        if ans[n][0] > 0.5: answer = '올바른 패턴'\n",
    "        if est[n][0] > 0.5: guess = '합격추정'\n",
    "        if ans[n][0] > 0.5 and est[n][0] > 0.5: result = 'O'\n",
    "        if ans[n][0] < 0.5 and est[n][0] < 0.5: result = 'O'\n",
    "\n",
    "        print('{}: {} => {}({:4.2f}) : {}'. \\\n",
    "            format(text, answer, guess, est[n][0], result))\n",
    "        \n",
    "AutomataDataset.visualize = automata_visualize"
   ]
  }
 ],
 "metadata": {
  "kernelspec": {
   "display_name": "Python 3",
   "language": "python",
   "name": "python3"
  },
  "language_info": {
   "codemirror_mode": {
    "name": "ipython",
    "version": 3
   },
   "file_extension": ".py",
   "mimetype": "text/x-python",
   "name": "python",
   "nbconvert_exporter": "python",
   "pygments_lexer": "ipython3",
   "version": "3.4.3"
  }
 },
 "nbformat": 4,
 "nbformat_minor": 2
}
