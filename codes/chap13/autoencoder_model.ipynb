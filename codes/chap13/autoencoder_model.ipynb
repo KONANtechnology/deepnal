{
 "cells": [
  {
   "cell_type": "code",
   "execution_count": 1,
   "metadata": {},
   "outputs": [],
   "source": [
    "%run ../chap12/rnn_ext_model.ipynb"
   ]
  },
  {
   "cell_type": "code",
   "execution_count": 2,
   "metadata": {},
   "outputs": [],
   "source": [
    "class AutoencoderModel(RnnExtModel):\n",
    "    def __init__(self, name, dataset, hconfigs, show_maps=False, l2_decay=0, \\\n",
    "                 l1_decay=0, dump_structure=False, fix_encoder=False):\n",
    "        self.fix_encoder = fix_encoder\n",
    "        super(AutoencoderModel, self).__init__(name, dataset, hconfigs, \\\n",
    "                 show_maps, l2_decay, l1_decay, dump_structure)"
   ]
  },
  {
   "cell_type": "code",
   "execution_count": 3,
   "metadata": {},
   "outputs": [],
   "source": [
    "def autoencoder_init_parameters(self, hconfigs):\n",
    "    econf = hconfigs['encoder']\n",
    "    dconf = hconfigs['decoder']\n",
    "    hconf = hconfigs['supervised']\n",
    "\n",
    "    in_shape = self.dataset.input_shape\n",
    "\n",
    "    pme, code_shape = self.build_subnet(econf, in_shape)\n",
    "    pmd, represent_shape = self.build_subnet(dconf, code_shape)\n",
    "    pmh, hidden_shape = self.build_subnet(hconf, code_shape)\n",
    "\n",
    "    self.econfigs, self.dconfigs, self.hconfigs = econf, dconf, hconf\n",
    "    self.pm_encoder, self.pm_decoder, self.pm_hiddens = pme, pmd, pmh\n",
    "\n",
    "    output_cnt = int(np.prod(self.dataset.output_shape))\n",
    "    self.seqout = False\n",
    "\n",
    "    if len(hconf) > 0 and get_layer_type(hconf[-1]) in ['rnn', 'lstm']:\n",
    "        if get_conf_param(hconf[-1], 'outseq', True):\n",
    "            self.seqout = True\n",
    "            hidden_shape= hidden_shape[1:]\n",
    "            output_cnt = int(np.prod(self.dataset.output_shape[1:]))\n",
    "\n",
    "    self.pm_output, _ = self.alloc_layer_param(hidden_shape, output_cnt)\n",
    "\n",
    "def autoencoder_build_subnet(self, hconfigs, prev_shape):\n",
    "    pms = []\n",
    "\n",
    "    for hconfig in hconfigs:\n",
    "        pm, prev_shape = self.alloc_layer_param(prev_shape, hconfig)\n",
    "        pms.append(pm)\n",
    "        \n",
    "    return pms, prev_shape\n",
    "\n",
    "AutoencoderModel.build_subnet = autoencoder_build_subnet\n",
    "AutoencoderModel.init_parameters = autoencoder_init_parameters"
   ]
  },
  {
   "cell_type": "code",
   "execution_count": 4,
   "metadata": {},
   "outputs": [],
   "source": [
    "def autoencoder_autoencode(self, epoch_count=10, batch_size=10, \\\n",
    "                            learning_rate=0.001, report=0):\n",
    "    self.learning_rate = learning_rate\n",
    "    \n",
    "    batch_count = self.dataset.autoencode_count // batch_size\n",
    "    time1 = time2 = int(time.time())\n",
    "    if report != 0:\n",
    "        print('Model {} autoencode started:'.format(self.name))\n",
    "\n",
    "    for epoch in range(epoch_count):\n",
    "        costs = []\n",
    "        accs = []\n",
    "        self.dataset.shuffle_train_data(batch_size*batch_count)\n",
    "        for n in range(batch_count):\n",
    "            trX = self.dataset.get_autoencode_data(batch_size, n)\n",
    "            cost, acc = self.autoencode_step(trX)\n",
    "            costs.append(cost)\n",
    "            accs.append(acc)\n",
    "\n",
    "        if report > 0 and (epoch+1) % report == 0:\n",
    "            acc = np.mean(accs)\n",
    "            time3 = int(time.time())\n",
    "            tm1, tm2 = time3-time2, time3-time1\n",
    "            self.dataset.train_prt_result(epoch+1, costs, accs, acc, tm1, tm2)\n",
    "            time2 = time3\n",
    "\n",
    "    tm_total = int(time.time()) - time1\n",
    "    if report != 0:\n",
    "        print('Model {} autoencode ended in {} secs:'.format(self.name, tm_total))\n",
    "        \n",
    "AutoencoderModel.autoencode = autoencoder_autoencode"
   ]
  },
  {
   "cell_type": "code",
   "execution_count": 5,
   "metadata": {},
   "outputs": [],
   "source": [
    "def autoencoder_autoencode_step(self, x):\n",
    "    self.is_training = True\n",
    "    \n",
    "    hidden, aux_encoder, aux_decoder = self.forward_autoencode(x)\n",
    "\n",
    "    diff = hidden - x\n",
    "    square = np.square(diff)\n",
    "    loss = np.mean(square)\n",
    "    \n",
    "    mse = np.mean(np.square(hidden - x))\n",
    "    accuracy = 1 - np.sqrt(mse) / np.mean(x)\n",
    "    \n",
    "    g_loss_square = np.ones(x.shape) / np.prod(x.shape)\n",
    "    g_square_diff = 2 * diff\n",
    "    g_diff_output = 1\n",
    "\n",
    "    G_loss = 1.0\n",
    "    G_square = g_loss_square * G_loss\n",
    "    G_diff = g_square_diff * G_square\n",
    "    G_hidden = g_diff_output * G_diff\n",
    "\n",
    "    self.backprop_autoencode(G_hidden, aux_encoder, aux_decoder)\n",
    "\n",
    "    self.is_training = False\n",
    "    \n",
    "    return loss, accuracy\n",
    "\n",
    "AutoencoderModel.autoencode_step = autoencoder_autoencode_step"
   ]
  },
  {
   "cell_type": "code",
   "execution_count": 6,
   "metadata": {},
   "outputs": [],
   "source": [
    "def autoencoder_forward_autoencode(self, x):\n",
    "    hidden = x\n",
    "    aux_encoder, aux_decoder = [], []\n",
    "\n",
    "    for n, hconfig in enumerate(self.econfigs):\n",
    "        hidden, aux = self.forward_layer(hidden, hconfig, self.pm_encoder[n])\n",
    "        aux_encoder.append(aux)\n",
    "\n",
    "    for n, hconfig in enumerate(self.dconfigs):\n",
    "        hidden, aux = self.forward_layer(hidden, hconfig, self.pm_decoder[n])\n",
    "        aux_decoder.append(aux)\n",
    "        \n",
    "    return hidden, aux_encoder, aux_decoder\n",
    "\n",
    "AutoencoderModel.forward_autoencode = autoencoder_forward_autoencode"
   ]
  },
  {
   "cell_type": "code",
   "execution_count": 7,
   "metadata": {},
   "outputs": [],
   "source": [
    "def autoencoder_backprop_autoencode(self, G_hidden, aux_encoder, aux_decoder):\n",
    "    for n in reversed(range(len(self.dconfigs))):\n",
    "        hconfig, pm, aux = self.dconfigs[n], self.pm_decoder[n], aux_decoder[n]\n",
    "        G_hidden = self.backprop_layer(G_hidden, hconfig, pm, aux)\n",
    "    \n",
    "    for n in reversed(range(len(self.econfigs))):\n",
    "        hconfig, pm, aux = self.econfigs[n], self.pm_encoder[n], aux_encoder[n]\n",
    "        G_hidden = self.backprop_layer(G_hidden, hconfig, pm, aux)\n",
    "\n",
    "AutoencoderModel.backprop_autoencode = autoencoder_backprop_autoencode"
   ]
  },
  {
   "cell_type": "code",
   "execution_count": 8,
   "metadata": {},
   "outputs": [],
   "source": [
    "def autoencoder_forward_neuralnet(self, x):\n",
    "    hidden = x\n",
    "\n",
    "    aux_encoder = []\n",
    "\n",
    "    for n, hconfig in enumerate(self.econfigs):\n",
    "        hidden, aux = self.forward_layer(hidden, hconfig, self.pm_encoder[n])\n",
    "        aux_encoder.append(aux)\n",
    "\n",
    "    output, aux_layers = super(AutoencoderModel, self).forward_neuralnet(hidden)\n",
    "    \n",
    "    return output, [aux_encoder, aux_layers]\n",
    "\n",
    "AutoencoderModel.forward_neuralnet = autoencoder_forward_neuralnet"
   ]
  },
  {
   "cell_type": "code",
   "execution_count": 9,
   "metadata": {},
   "outputs": [],
   "source": [
    "def autoencoder_backprop_neuralnet(self, G_output, aux):\n",
    "    aux_encoder, aux_layers = aux\n",
    "    \n",
    "    G_hidden = super(AutoencoderModel, self). \\\n",
    "                           backprop_neuralnet(G_output, aux_layers)\n",
    "    \n",
    "    if self.fix_encoder: return G_hidden\n",
    "    \n",
    "    for n in reversed(range(len(self.econfigs))):\n",
    "        hconfig, pm, aux = self.econfigs[n], self.pm_encoder[n], aux_encoder[n]\n",
    "        G_hidden = self.backprop_layer(G_hidden, hconfig, pm, aux)\n",
    "\n",
    "    return G_hidden\n",
    "\n",
    "AutoencoderModel.backprop_neuralnet = autoencoder_backprop_neuralnet"
   ]
  },
  {
   "cell_type": "code",
   "execution_count": 10,
   "metadata": {},
   "outputs": [],
   "source": [
    "def autoencoder_visualize(self, num):\n",
    "    print('Model {} Visualization'.format(self.name))\n",
    "    deX, deY = self.dataset.get_visualize_data(num)\n",
    "    copy, _, _ = self.forward_autoencode(deX)\n",
    "    est = self.get_estimate(deX)\n",
    "    self.dataset.autoencode_visualize(deX, copy, est, deY)\n",
    "\n",
    "AutoencoderModel.visualize = autoencoder_visualize"
   ]
  }
 ],
 "metadata": {
  "kernelspec": {
   "display_name": "Python 3",
   "language": "python",
   "name": "python3"
  },
  "language_info": {
   "codemirror_mode": {
    "name": "ipython",
    "version": 3
   },
   "file_extension": ".py",
   "mimetype": "text/x-python",
   "name": "python",
   "nbconvert_exporter": "python",
   "pygments_lexer": "ipython3",
   "version": "3.4.3"
  }
 },
 "nbformat": 4,
 "nbformat_minor": 2
}
