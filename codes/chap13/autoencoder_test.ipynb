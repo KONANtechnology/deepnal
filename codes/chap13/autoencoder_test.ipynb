{
 "cells": [
  {
   "cell_type": "code",
   "execution_count": 1,
   "metadata": {},
   "outputs": [],
   "source": [
    "%run ../chap13/autoencoder_model.ipynb\n",
    "%run ../chap13/dataset_auto_mnist.ipynb"
   ]
  },
  {
   "cell_type": "code",
   "execution_count": 2,
   "metadata": {},
   "outputs": [],
   "source": [
    "mset_all = MnistAutoDataset(train_ratio=1.00)\n",
    "mset_1p = MnistAutoDataset(train_ratio=0.01)"
   ]
  },
  {
   "cell_type": "code",
   "execution_count": 3,
   "metadata": {},
   "outputs": [
    {
     "name": "stdout",
     "output_type": "stream",
     "text": [
      "Model mnist_mlp_all train started:\n",
      "    Epoch 2: cost=0.519, accuracy=0.862/0.850 (4/4 secs)\n",
      "    Epoch 4: cost=0.446, accuracy=0.886/0.940 (5/9 secs)\n",
      "    Epoch 6: cost=0.437, accuracy=0.891/0.850 (5/14 secs)\n",
      "    Epoch 8: cost=0.423, accuracy=0.893/0.820 (4/18 secs)\n",
      "    Epoch 10: cost=0.423, accuracy=0.896/0.950 (5/23 secs)\n",
      "Model mnist_mlp_all train ended in 23 secs:\n",
      "Model mnist_mlp_all test report: accuracy = 0.904, (0 secs)\n",
      "\n",
      "Model mnist_mlp_all Visualization\n",
      "정답 [4 4 9]  vs.  추정 [4 4 9]\n"
     ]
    },
    {
     "data": {
      "image/png": "[encoded data removed]",
      "text/plain": [
       "<matplotlib.figure.Figure at 0x7fa91c4e8b70>"
      ]
     },
     "metadata": {},
     "output_type": "display_data"
    }
   ],
   "source": [
    "conf_mlp = [['full', {'width':10}]]\n",
    "\n",
    "mnist_mlp_all = RnnExtModel('mnist_mlp_all', mset_all, conf_mlp)\n",
    "mnist_mlp_all.exec_all(epoch_count=10, report=2)"
   ]
  },
  {
   "cell_type": "code",
   "execution_count": 4,
   "metadata": {},
   "outputs": [
    {
     "name": "stdout",
     "output_type": "stream",
     "text": [
      "Model mnist_mlp_1p train started:\n",
      "    Epoch 2: cost=1.402, accuracy=0.533/0.540 (0/0 secs)\n",
      "    Epoch 4: cost=0.870, accuracy=0.681/0.550 (0/0 secs)\n",
      "    Epoch 6: cost=0.579, accuracy=0.781/0.670 (0/0 secs)\n",
      "    Epoch 8: cost=0.419, accuracy=0.817/0.790 (0/0 secs)\n",
      "    Epoch 10: cost=0.337, accuracy=0.871/0.750 (0/0 secs)\n",
      "Model mnist_mlp_1p train ended in 0 secs:\n",
      "Model mnist_mlp_1p test report: accuracy = 0.684, (0 secs)\n",
      "\n",
      "Model mnist_mlp_1p Visualization\n",
      "정답 [0 2 0]  vs.  추정 [0 8 5]\n"
     ]
    },
    {
     "data": {
      "image/png": "[encoded data removed]",
      "text/plain": [
       "<matplotlib.figure.Figure at 0x7fa91a3d8358>"
      ]
     },
     "metadata": {},
     "output_type": "display_data"
    }
   ],
   "source": [
    "mnist_mlp_1p = RnnExtModel('mnist_mlp_1p', mset_1p, conf_mlp)\n",
    "mnist_mlp_1p.exec_all(epoch_count=10, report=2)"
   ]
  },
  {
   "cell_type": "code",
   "execution_count": 5,
   "metadata": {},
   "outputs": [
    {
     "name": "stdout",
     "output_type": "stream",
     "text": [
      "Model mnist_auto_1 autoencode started:\n",
      "    Epoch 2: cost=2556.569, accuracy=-0.526/-0.526 (7/7 secs)\n",
      "    Epoch 4: cost=2545.604, accuracy=-0.523/-0.523 (10/17 secs)\n",
      "    Epoch 6: cost=2542.331, accuracy=-0.522/-0.522 (9/26 secs)\n",
      "    Epoch 8: cost=2540.230, accuracy=-0.522/-0.522 (10/36 secs)\n",
      "    Epoch 10: cost=2538.219, accuracy=-0.521/-0.521 (9/45 secs)\n",
      "Model mnist_auto_1 autoencode ended in 45 secs:\n",
      "Model mnist_auto_1 train started:\n",
      "    Epoch 2: cost=1.375, accuracy=0.546/0.540 (0/0 secs)\n",
      "    Epoch 4: cost=0.958, accuracy=0.673/0.590 (0/0 secs)\n",
      "    Epoch 6: cost=0.822, accuracy=0.715/0.640 (0/0 secs)\n",
      "    Epoch 8: cost=0.710, accuracy=0.740/0.620 (0/0 secs)\n",
      "    Epoch 10: cost=0.646, accuracy=0.790/0.790 (0/0 secs)\n",
      "Model mnist_auto_1 train ended in 0 secs:\n",
      "Model mnist_auto_1 test report: accuracy = 0.745, (0 secs)\n",
      "\n",
      "Model mnist_auto_1 Visualization\n",
      "정답 [6 9 9]  vs.  추정 [6 9 9]\n"
     ]
    },
    {
     "data": {
      "image/png": "[encoded data removed]",
      "text/plain": [
       "<matplotlib.figure.Figure at 0x7fa91a38cf28>"
      ]
     },
     "metadata": {},
     "output_type": "display_data"
    },
    {
     "data": {
      "image/png": "[encoded data removed]",
      "text/plain": [
       "<matplotlib.figure.Figure at 0x7fa91a1c6518>"
      ]
     },
     "metadata": {},
     "output_type": "display_data"
    }
   ],
   "source": [
    "conf_auto = {\n",
    "    'encoder': [['full', {'width':10}]],\n",
    "    'decoder': [['full', {'width':784}]],\n",
    "    'supervised': [['full', {'width':10}]]\n",
    "}\n",
    "\n",
    "mnist_auto_1 = AutoencoderModel('mnist_auto_1', mset_1p, conf_auto)\n",
    "mnist_auto_1.autoencode(epoch_count=10, report=2)\n",
    "mnist_auto_1.exec_all(epoch_count=10, report=2)"
   ]
  },
  {
   "cell_type": "code",
   "execution_count": 6,
   "metadata": {},
   "outputs": [
    {
     "name": "stdout",
     "output_type": "stream",
     "text": [
      "Model mnist_auto_fix autoencode started:\n",
      "    Epoch 5: cost=2448.894, accuracy=-0.493/-0.493 (22/22 secs)\n",
      "    Epoch 10: cost=2445.195, accuracy=-0.492/-0.492 (23/45 secs)\n",
      "Model mnist_auto_fix autoencode ended in 45 secs:\n",
      "Model mnist_auto_fix train started:\n",
      "    Epoch 5: cost=0.734, accuracy=0.740/0.690 (0/0 secs)\n",
      "    Epoch 10: cost=0.630, accuracy=0.798/0.740 (0/0 secs)\n",
      "Model mnist_auto_fix train ended in 0 secs:\n",
      "Model mnist_auto_fix test report: accuracy = 0.749, (0 secs)\n",
      "\n",
      "Model mnist_auto_fix Visualization\n",
      "정답 [9 8 3]  vs.  추정 [8 8 3]\n"
     ]
    },
    {
     "data": {
      "image/png": "[encoded data removed]",
      "text/plain": [
       "<matplotlib.figure.Figure at 0x7fa91a129c50>"
      ]
     },
     "metadata": {},
     "output_type": "display_data"
    },
    {
     "data": {
      "image/png": "[encoded data removed]",
      "text/plain": [
       "<matplotlib.figure.Figure at 0x7fa990f20be0>"
      ]
     },
     "metadata": {},
     "output_type": "display_data"
    }
   ],
   "source": [
    "mnist_auto_fix = AutoencoderModel('mnist_auto_fix', mset_1p, conf_auto, \\\n",
    "                                                      fix_encoder=True)\n",
    "mnist_auto_fix.autoencode(epoch_count=10, report=5)\n",
    "mnist_auto_fix.exec_all(epoch_count=10, report=5)"
   ]
  },
  {
   "cell_type": "code",
   "execution_count": 7,
   "metadata": {},
   "outputs": [
    {
     "name": "stdout",
     "output_type": "stream",
     "text": [
      "Model mnist_auto_2 autoencode started:\n",
      "    Epoch 5: cost=2680.212, accuracy=-0.560/-0.560 (106/106 secs)\n",
      "    Epoch 10: cost=2607.791, accuracy=-0.539/-0.539 (129/235 secs)\n",
      "Model mnist_auto_2 autoencode ended in 235 secs:\n",
      "Model mnist_auto_2 train started:\n",
      "    Epoch 5: cost=0.765, accuracy=0.746/0.700 (1/1 secs)\n",
      "    Epoch 10: cost=0.609, accuracy=0.794/0.860 (1/2 secs)\n",
      "Model mnist_auto_2 train ended in 2 secs:\n",
      "Model mnist_auto_2 test report: accuracy = 0.791, (0 secs)\n",
      "\n",
      "Model mnist_auto_2 Visualization\n",
      "정답 [7 6 8]  vs.  추정 [7 6 8]\n"
     ]
    },
    {
     "data": {
      "image/png": "[encoded data removed]",
      "text/plain": [
       "<matplotlib.figure.Figure at 0x7fa91a405940>"
      ]
     },
     "metadata": {},
     "output_type": "display_data"
    },
    {
     "data": {
      "image/png": "[encoded data removed]",
      "text/plain": [
       "<matplotlib.figure.Figure at 0x7fa91a2912b0>"
      ]
     },
     "metadata": {},
     "output_type": "display_data"
    }
   ],
   "source": [
    "conf_auto_2 = {\n",
    "    'encoder': [['full', {'width':64}], ['full', {'width':10}]],\n",
    "    'decoder': [['full', {'width':64}], ['full', {'width':784}]],\n",
    "    'supervised': [['full', {'width':10}]]\n",
    "}\n",
    "\n",
    "mnist_auto_2 = AutoencoderModel('mnist_auto_2', mset_1p, conf_auto_2)\n",
    "mnist_auto_2.autoencode(epoch_count=10, report=5)\n",
    "mnist_auto_2.exec_all(epoch_count=10, report=5)"
   ]
  },
  {
   "cell_type": "code",
   "execution_count": 8,
   "metadata": {},
   "outputs": [
    {
     "name": "stdout",
     "output_type": "stream",
     "text": [
      "Model mnist_auto_3 autoencode started:\n",
      "    Epoch 5: cost=5327.260, accuracy=-1.202/-1.202 (90/90 secs)\n",
      "    Epoch 10: cost=5119.852, accuracy=-1.159/-1.159 (137/227 secs)\n",
      "Model mnist_auto_3 autoencode ended in 227 secs:\n",
      "Model mnist_auto_3 train started:\n",
      "    Epoch 5: cost=2.227, accuracy=0.133/0.170 (1/1 secs)\n",
      "    Epoch 10: cost=2.192, accuracy=0.175/0.150 (1/2 secs)\n",
      "Model mnist_auto_3 train ended in 2 secs:\n",
      "Model mnist_auto_3 test report: accuracy = 0.196, (0 secs)\n",
      "\n",
      "Model mnist_auto_3 Visualization\n",
      "정답 [3 6 6]  vs.  추정 [0 3 0]\n"
     ]
    },
    {
     "data": {
      "image/png": "[encoded data removed]",
      "text/plain": [
       "<matplotlib.figure.Figure at 0x7fa91a353128>"
      ]
     },
     "metadata": {},
     "output_type": "display_data"
    },
    {
     "data": {
      "image/png": "[encoded data removed]",
      "text/plain": [
       "<matplotlib.figure.Figure at 0x7fa91a0250f0>"
      ]
     },
     "metadata": {},
     "output_type": "display_data"
    }
   ],
   "source": [
    "conf_auto_3 = {\n",
    "    'encoder': [['full', {'width':64}], ['full', {'width':1}]],\n",
    "    'decoder': [['full', {'width':64}], ['full', {'width':784}]],\n",
    "    'supervised': [['full', {'width':10}]]\n",
    "}\n",
    "\n",
    "mnist_auto_3 = AutoencoderModel('mnist_auto_3', mset_1p, conf_auto_3)\n",
    "mnist_auto_3.autoencode(epoch_count=10, report=5)\n",
    "mnist_auto_3.exec_all(epoch_count=10, report=5)"
   ]
  },
  {
   "cell_type": "code",
   "execution_count": 9,
   "metadata": {},
   "outputs": [
    {
     "name": "stdout",
     "output_type": "stream",
     "text": [
      "Model mnist_auto_3 autoencode started:\n",
      "    Epoch 5: cost=5035.082, accuracy=-1.141/-1.141 (139/139 secs)\n",
      "    Epoch 10: cost=5018.329, accuracy=-1.137/-1.137 (141/280 secs)\n",
      "Model mnist_auto_3 autoencode ended in 280 secs:\n",
      "Model mnist_auto_3 train started:\n",
      "    Epoch 5: cost=2.129, accuracy=0.235/0.290 (1/1 secs)\n",
      "    Epoch 10: cost=2.100, accuracy=0.240/0.220 (1/2 secs)\n",
      "Model mnist_auto_3 train ended in 2 secs:\n",
      "Model mnist_auto_3 test report: accuracy = 0.267, (0 secs)\n",
      "\n",
      "Model mnist_auto_3 Visualization\n",
      "정답 [3 3 0]  vs.  추정 [3 3 0]\n"
     ]
    },
    {
     "data": {
      "image/png": "[encoded data removed]",
      "text/plain": [
       "<matplotlib.figure.Figure at 0x7fa91a051710>"
      ]
     },
     "metadata": {},
     "output_type": "display_data"
    },
    {
     "data": {
      "image/png": "[encoded data removed]",
      "text/plain": [
       "<matplotlib.figure.Figure at 0x7fa91a37d208>"
      ]
     },
     "metadata": {},
     "output_type": "display_data"
    },
    {
     "name": "stdout",
     "output_type": "stream",
     "text": [
      "Model mnist_auto_3 autoencode started:\n",
      "    Epoch 5: cost=4976.551, accuracy=-1.128/-1.128 (140/140 secs)\n",
      "    Epoch 10: cost=4946.357, accuracy=-1.123/-1.123 (141/281 secs)\n",
      "Model mnist_auto_3 autoencode ended in 281 secs:\n",
      "Model mnist_auto_3 train started:\n",
      "    Epoch 5: cost=2.064, accuracy=0.279/0.270 (1/1 secs)\n",
      "    Epoch 10: cost=2.036, accuracy=0.244/0.220 (0/1 secs)\n",
      "Model mnist_auto_3 train ended in 1 secs:\n",
      "Model mnist_auto_3 test report: accuracy = 0.260, (0 secs)\n",
      "\n",
      "Model mnist_auto_3 Visualization\n",
      "정답 [6 9 7]  vs.  추정 [3 3 3]\n"
     ]
    },
    {
     "data": {
      "image/png": "[encoded data removed]",
      "text/plain": [
       "<matplotlib.figure.Figure at 0x7fa91a3c2198>"
      ]
     },
     "metadata": {},
     "output_type": "display_data"
    },
    {
     "data": {
      "image/png": "[encoded data removed]",
      "text/plain": [
       "<matplotlib.figure.Figure at 0x7fa91a0ecc88>"
      ]
     },
     "metadata": {},
     "output_type": "display_data"
    }
   ],
   "source": [
    "mnist_auto_3.autoencode(epoch_count=10, report=5)\n",
    "mnist_auto_3.exec_all(epoch_count=10, report=5)\n",
    "mnist_auto_3.autoencode(epoch_count=10, report=5)\n",
    "mnist_auto_3.exec_all(epoch_count=10, report=5)"
   ]
  },
  {
   "cell_type": "code",
   "execution_count": null,
   "metadata": {},
   "outputs": [],
   "source": []
  }
 ],
 "metadata": {
  "kernelspec": {
   "display_name": "Python 3",
   "language": "python",
   "name": "python3"
  },
  "language_info": {
   "codemirror_mode": {
    "name": "ipython",
    "version": 3
   },
   "file_extension": ".py",
   "mimetype": "text/x-python",
   "name": "python",
   "nbconvert_exporter": "python",
   "pygments_lexer": "ipython3",
   "version": "3.4.3"
  }
 },
 "nbformat": 4,
 "nbformat_minor": 2
}
