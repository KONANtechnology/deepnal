{
 "cells": [
  {
   "cell_type": "code",
   "execution_count": 1,
   "metadata": {},
   "outputs": [],
   "source": [
    "%run ../chap11/rnn_lstm_model.ipynb\n",
    "%run ../chap11/dataset_sounds.ipynb"
   ]
  },
  {
   "cell_type": "code",
   "execution_count": 2,
   "metadata": {},
   "outputs": [
    {
     "name": "stdout",
     "output_type": "stream",
     "text": [
      "loaded from cache\n",
      "loaded from cache\n"
     ]
    }
   ],
   "source": [
    "usd_10_10 = UrbanSoundDataset(10, 10)\n",
    "usd_10_100 = UrbanSoundDataset(10, 100)"
   ]
  },
  {
   "cell_type": "code",
   "execution_count": 3,
   "metadata": {},
   "outputs": [],
   "source": [
    "conf_basic = ['rnn', {'recur_size':20, 'outseq':False}]\n",
    "conf_lstm  = ['lstm', {'recur_size':20, 'outseq':False}]\n",
    "conf_state = ['lstm', {'recur_size':20, 'outseq':False, 'use_state':True}]\n",
    "\n",
    "us_basic_10_10 = RnnLstmModel('us_basic_10_10', usd_10_10, conf_basic)\n",
    "us_lstm_10_10  = RnnLstmModel('us_lstm_10_10',  usd_10_10, conf_lstm)\n",
    "us_state_10_10 = RnnLstmModel('us_state_10_10', usd_10_10, conf_state)\n",
    "\n",
    "us_basic_10_100 = RnnLstmModel('us_basic_10_100', usd_10_100, conf_basic)\n",
    "us_lstm_10_100  = RnnLstmModel('us_lstm_10_100',  usd_10_100, conf_lstm)\n",
    "us_state_10_100 = RnnLstmModel('us_state_10_100', usd_10_100, conf_state)"
   ]
  },
  {
   "cell_type": "code",
   "execution_count": 6,
   "metadata": {},
   "outputs": [
    {
     "name": "stdout",
     "output_type": "stream",
     "text": [
      "Model us_basic_10_10 train started:\n",
      "    Epoch 2: cost=2.108, accuracy=0.233/0.210 (11/11 secs)\n",
      "    Epoch 4: cost=2.031, accuracy=0.278/0.200 (10/21 secs)\n",
      "    Epoch 6: cost=1.985, accuracy=0.283/0.250 (11/32 secs)\n",
      "    Epoch 8: cost=2.302, accuracy=0.228/0.280 (9/41 secs)\n",
      "    Epoch 10: cost=2.109, accuracy=0.245/0.220 (10/51 secs)\n",
      "Model us_basic_10_10 train ended in 51 secs:\n",
      "Model us_basic_10_10 test report: accuracy = 0.195, (0 secs)\n",
      "\n",
      "Model us_basic_10_10 Visualization\n"
     ]
    },
    {
     "data": {
      "text/html": [
       "\n",
       "    <head>\n",
       "    <meta http-equiv=\"Content-Type\" content=\"text/html; charset=utf-8\">\n",
       "    <title>Audio Player</title>\n",
       "    </head>\n",
       "    \n",
       "    <body>\n",
       "    <audio controls=\"controls\" style=\"width:600px\" >\n",
       "      <source src=\"files/urban-sound/Train/855.wav\" type=\"audio/wav\" />\n",
       "      Your browser does not support the audio element.\n",
       "    </audio>\n",
       "    </body>\n",
       "    "
      ],
      "text/plain": [
       "<IPython.core.display.HTML object>"
      ]
     },
     "metadata": {},
     "output_type": "display_data"
    },
    {
     "name": "stdout",
     "output_type": "stream",
     "text": [
      "jackhammer: wrong(air_conditioner)\n"
     ]
    },
    {
     "data": {
      "text/html": [
       "\n",
       "    <head>\n",
       "    <meta http-equiv=\"Content-Type\" content=\"text/html; charset=utf-8\">\n",
       "    <title>Audio Player</title>\n",
       "    </head>\n",
       "    \n",
       "    <body>\n",
       "    <audio controls=\"controls\" style=\"width:600px\" >\n",
       "      <source src=\"files/urban-sound/Train/2558.wav\" type=\"audio/wav\" />\n",
       "      Your browser does not support the audio element.\n",
       "    </audio>\n",
       "    </body>\n",
       "    "
      ],
      "text/plain": [
       "<IPython.core.display.HTML object>"
      ]
     },
     "metadata": {},
     "output_type": "display_data"
    },
    {
     "name": "stdout",
     "output_type": "stream",
     "text": [
      "street_music: wrong(dog_bark)\n"
     ]
    },
    {
     "data": {
      "text/html": [
       "\n",
       "    <head>\n",
       "    <meta http-equiv=\"Content-Type\" content=\"text/html; charset=utf-8\">\n",
       "    <title>Audio Player</title>\n",
       "    </head>\n",
       "    \n",
       "    <body>\n",
       "    <audio controls=\"controls\" style=\"width:600px\" >\n",
       "      <source src=\"files/urban-sound/Train/2568.wav\" type=\"audio/wav\" />\n",
       "      Your browser does not support the audio element.\n",
       "    </audio>\n",
       "    </body>\n",
       "    "
      ],
      "text/plain": [
       "<IPython.core.display.HTML object>"
      ]
     },
     "metadata": {},
     "output_type": "display_data"
    },
    {
     "name": "stdout",
     "output_type": "stream",
     "text": [
      "street_music: wrong(siren)\n"
     ]
    }
   ],
   "source": [
    "us_basic_10_10.exec_all(epoch_count=10, report=2)"
   ]
  },
  {
   "cell_type": "code",
   "execution_count": 7,
   "metadata": {},
   "outputs": [
    {
     "name": "stdout",
     "output_type": "stream",
     "text": [
      "Model us_lstm_10_10 train started:\n",
      "    Epoch 2: cost=2.124, accuracy=0.253/0.280 (38/38 secs)\n",
      "    Epoch 4: cost=2.022, accuracy=0.281/0.240 (38/76 secs)\n",
      "    Epoch 6: cost=2.007, accuracy=0.296/0.260 (38/114 secs)\n",
      "    Epoch 8: cost=1.970, accuracy=0.311/0.310 (39/153 secs)\n",
      "    Epoch 10: cost=1.918, accuracy=0.327/0.290 (38/191 secs)\n",
      "Model us_lstm_10_10 train ended in 191 secs:\n",
      "Model us_lstm_10_10 test report: accuracy = 0.294, (1 secs)\n",
      "\n"
     ]
    }
   ],
   "source": [
    "us_lstm_10_10.exec_all(epoch_count=10, report=2, show_cnt=0)"
   ]
  },
  {
   "cell_type": "code",
   "execution_count": 8,
   "metadata": {},
   "outputs": [
    {
     "name": "stdout",
     "output_type": "stream",
     "text": [
      "Model us_state_10_10 train started:\n",
      "    Epoch 2: cost=2.088, accuracy=0.232/0.190 (38/38 secs)\n",
      "    Epoch 4: cost=1.929, accuracy=0.301/0.290 (39/77 secs)\n",
      "    Epoch 6: cost=1.847, accuracy=0.337/0.320 (38/115 secs)\n",
      "    Epoch 8: cost=1.753, accuracy=0.369/0.330 (39/154 secs)\n",
      "    Epoch 10: cost=1.639, accuracy=0.405/0.370 (38/192 secs)\n",
      "Model us_state_10_10 train ended in 192 secs:\n",
      "Model us_state_10_10 test report: accuracy = 0.387, (1 secs)\n",
      "\n"
     ]
    }
   ],
   "source": [
    "us_state_10_10.exec_all(epoch_count=10, report=2, show_cnt=0)"
   ]
  },
  {
   "cell_type": "code",
   "execution_count": 9,
   "metadata": {},
   "outputs": [
    {
     "name": "stdout",
     "output_type": "stream",
     "text": [
      "Model us_basic_10_10 train started:\n",
      "    Epoch 20: cost=1.921, accuracy=0.314/0.270 (93/93 secs)\n",
      "    Epoch 40: cost=1.822, accuracy=0.334/0.320 (94/187 secs)\n",
      "    Epoch 60: cost=1.829, accuracy=0.335/0.350 (94/281 secs)\n",
      "    Epoch 80: cost=1.807, accuracy=0.346/0.240 (94/375 secs)\n",
      "    Epoch 100: cost=1.663, accuracy=0.406/0.330 (94/469 secs)\n",
      "Model us_basic_10_10 train ended in 469 secs:\n",
      "Model us_basic_10_10 test report: accuracy = 0.322, (0 secs)\n",
      "\n",
      "Model us_lstm_10_10 train started:\n",
      "    Epoch 20: cost=1.574, accuracy=0.456/0.400 (378/378 secs)\n",
      "    Epoch 40: cost=1.496, accuracy=0.479/0.370 (383/761 secs)\n",
      "    Epoch 60: cost=1.368, accuracy=0.522/0.450 (385/1146 secs)\n",
      "    Epoch 80: cost=1.311, accuracy=0.530/0.430 (423/1569 secs)\n",
      "    Epoch 100: cost=1.115, accuracy=0.614/0.480 (398/1967 secs)\n",
      "Model us_lstm_10_10 train ended in 1967 secs:\n",
      "Model us_lstm_10_10 test report: accuracy = 0.452, (1 secs)\n",
      "\n",
      "Model us_state_10_10 train started:\n",
      "    Epoch 20: cost=1.244, accuracy=0.564/0.460 (377/377 secs)\n",
      "    Epoch 40: cost=1.077, accuracy=0.612/0.500 (406/783 secs)\n",
      "    Epoch 60: cost=0.967, accuracy=0.654/0.530 (587/1370 secs)\n",
      "    Epoch 80: cost=0.888, accuracy=0.699/0.570 (405/1775 secs)\n",
      "    Epoch 100: cost=0.924, accuracy=0.689/0.570 (400/2175 secs)\n",
      "Model us_state_10_10 train ended in 2176 secs:\n",
      "Model us_state_10_10 test report: accuracy = 0.616, (20 secs)\n",
      "\n"
     ]
    }
   ],
   "source": [
    "us_basic_10_10.exec_all(epoch_count=100, report=20, show_cnt=0)\n",
    "us_lstm_10_10.exec_all(epoch_count=100, report=20, show_cnt=0)\n",
    "us_state_10_10.exec_all(epoch_count=100, report=20, show_cnt=0)"
   ]
  },
  {
   "cell_type": "code",
   "execution_count": 10,
   "metadata": {},
   "outputs": [
    {
     "name": "stdout",
     "output_type": "stream",
     "text": [
      "Model us_basic_10_100 train started:\n",
      "    Epoch 20: cost=1.154, accuracy=0.596/0.560 (131/131 secs)\n",
      "    Epoch 40: cost=0.997, accuracy=0.649/0.580 (98/229 secs)\n",
      "    Epoch 60: cost=0.860, accuracy=0.691/0.610 (98/327 secs)\n",
      "    Epoch 80: cost=0.852, accuracy=0.708/0.620 (100/427 secs)\n",
      "    Epoch 100: cost=0.807, accuracy=0.719/0.670 (94/521 secs)\n",
      "Model us_basic_10_100 train ended in 521 secs:\n",
      "Model us_basic_10_100 test report: accuracy = 0.613, (21 secs)\n",
      "\n",
      "Model us_lstm_10_100 train started:\n",
      "    Epoch 20: cost=1.219, accuracy=0.591/0.560 (372/372 secs)\n",
      "    Epoch 40: cost=0.920, accuracy=0.701/0.640 (391/763 secs)\n",
      "    Epoch 60: cost=0.790, accuracy=0.751/0.760 (371/1134 secs)\n",
      "    Epoch 80: cost=0.650, accuracy=0.790/0.660 (369/1503 secs)\n",
      "    Epoch 100: cost=0.587, accuracy=0.812/0.730 (363/1866 secs)\n",
      "Model us_lstm_10_100 train ended in 1866 secs:\n",
      "Model us_lstm_10_100 test report: accuracy = 0.696, (1 secs)\n",
      "\n",
      "Model us_state_10_100 train started:\n",
      "    Epoch 20: cost=1.018, accuracy=0.648/0.640 (369/369 secs)\n",
      "    Epoch 40: cost=0.700, accuracy=0.761/0.590 (373/742 secs)\n",
      "    Epoch 60: cost=0.622, accuracy=0.791/0.710 (365/1107 secs)\n",
      "    Epoch 80: cost=0.494, accuracy=0.845/0.760 (378/1485 secs)\n",
      "    Epoch 100: cost=0.439, accuracy=0.862/0.800 (369/1854 secs)\n",
      "Model us_state_10_100 train ended in 1854 secs:\n",
      "Model us_state_10_100 test report: accuracy = 0.714, (2 secs)\n",
      "\n"
     ]
    }
   ],
   "source": [
    "us_basic_10_100.exec_all(epoch_count=100, report=20, show_cnt=0)\n",
    "us_lstm_10_100.exec_all(epoch_count=100, report=20, show_cnt=0)\n",
    "us_state_10_100.exec_all(epoch_count=100, report=20, show_cnt=0)"
   ]
  }
 ],
 "metadata": {
  "kernelspec": {
   "display_name": "Python 3",
   "language": "python",
   "name": "python3"
  },
  "language_info": {
   "codemirror_mode": {
    "name": "ipython",
    "version": 3
   },
   "file_extension": ".py",
   "mimetype": "text/x-python",
   "name": "python",
   "nbconvert_exporter": "python",
   "pygments_lexer": "ipython3",
   "version": "3.4.3"
  }
 },
 "nbformat": 4,
 "nbformat_minor": 2
}
