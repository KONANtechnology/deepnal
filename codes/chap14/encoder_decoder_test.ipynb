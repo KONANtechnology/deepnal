{
 "cells": [
  {
   "cell_type": "code",
   "execution_count": 1,
   "metadata": {},
   "outputs": [],
   "source": [
    "%run ../chap14/encoder_decoder_model.ipynb\n",
    "%run ../chap14/dataset_endec_mnist.ipynb"
   ]
  },
  {
   "cell_type": "code",
   "execution_count": 2,
   "metadata": {},
   "outputs": [],
   "source": [
    "mnist_eng = MnistEngDataset()"
   ]
  },
  {
   "cell_type": "code",
   "execution_count": 3,
   "metadata": {},
   "outputs": [
    {
     "name": "stdout",
     "output_type": "stream",
     "text": [
      "Model encdec_eng train started:\n",
      "    Epoch 2: cost=0.574, accuracy=0.824+0.605/0.823+0.630 (21/21 secs)\n",
      "    Epoch 4: cost=0.464, accuracy=0.853+0.686/0.868+0.700 (22/43 secs)\n",
      "    Epoch 6: cost=0.450, accuracy=0.858+0.699/0.842+0.700 (23/66 secs)\n",
      "    Epoch 8: cost=0.433, accuracy=0.864+0.712/0.868+0.730 (23/89 secs)\n",
      "    Epoch 10: cost=0.451, accuracy=0.860+0.713/0.882+0.730 (23/112 secs)\n",
      "Model encdec_eng train ended in 112 secs:\n",
      "Model mnist_eng test report: accuracy = 0.866+0.737, (1 secs)\n",
      "\n",
      "Model encdec_eng Visualization\n"
     ]
    },
    {
     "data": {
      "image/png": "[encoded data removed]",
      "text/plain": [
       "<matplotlib.figure.Figure at 0x7f1a7073d550>"
      ]
     },
     "metadata": {},
     "output_type": "display_data"
    },
    {
     "name": "stdout",
     "output_type": "stream",
     "text": [
      "four## : four##(code: 6)\n",
      "zero## : zero##(code: 0)\n",
      "five## : one###(code: 0)\n"
     ]
    }
   ],
   "source": [
    "conf_eng = {\n",
    "    'encoder': [['full', {'width':10}]],\n",
    "    'decoder': [['lstm', {'recur_size':32, 'inseq':False,\n",
    "                          'outseq':True, 'timesteps':6}],\n",
    "                ['seqwrap', ['full', {'width':27, 'actfunc':'none'}]]]\n",
    "}\n",
    "\n",
    "encdec_eng = EncoderDecoderModel('encdec_eng', mnist_eng, conf_eng)\n",
    "encdec_eng.exec_1_step(epoch_count=10, report=2)"
   ]
  },
  {
   "cell_type": "code",
   "execution_count": 4,
   "metadata": {},
   "outputs": [
    {
     "name": "stdout",
     "output_type": "stream",
     "text": [
      "Model encdec_eng2 train started:\n",
      "    Epoch 5: cost=2.174, accuracy=0.156/0.120 (13/13 secs)\n",
      "    Epoch 10: cost=2.166, accuracy=0.159/0.110 (15/28 secs)\n",
      "Model encdec_eng2 train ended in 28 secs:\n",
      "Model encdec_eng2 train started:\n",
      "    Epoch 5: cost=0.000, accuracy=1.000+1.000/1.000+1.000 (44/44 secs)\n",
      "    Epoch 10: cost=0.000, accuracy=1.000+1.000/1.000+1.000 (44/88 secs)\n",
      "Model encdec_eng2 train ended in 88 secs:\n",
      "Model mnist_eng test report: accuracy = 0.124+0.000, (0 secs)\n",
      "\n",
      "Model encdec_eng2 Visualization\n"
     ]
    },
    {
     "data": {
      "image/png": "[encoded data removed]",
      "text/plain": [
       "<matplotlib.figure.Figure at 0x7f1a775bde10>"
      ]
     },
     "metadata": {},
     "output_type": "display_data"
    },
    {
     "name": "stdout",
     "output_type": "stream",
     "text": [
      "two### : eighre(code: 0)\n",
      "eight# : eighre(code: 0)\n",
      "eight# : eighre(code: 0)\n"
     ]
    }
   ],
   "source": [
    "encdec_eng2 = EncoderDecoderModel('encdec_eng2', mnist_eng, conf_eng)\n",
    "encdec_eng2.exec_2_steps(epoch_count=10, report=5)"
   ]
  },
  {
   "cell_type": "code",
   "execution_count": 5,
   "metadata": {},
   "outputs": [
    {
     "name": "stdout",
     "output_type": "stream",
     "text": [
      "Model encdec_eng3 train started:\n",
      "    Epoch 5: cost=2.109, accuracy=0.185/0.280 (13/13 secs)\n",
      "    Epoch 10: cost=2.087, accuracy=0.194/0.240 (16/29 secs)\n",
      "Model encdec_eng3 train ended in 29 secs:\n",
      "Model encdec_eng3 train started:\n",
      "    Epoch 5: cost=0.000, accuracy=1.000+1.000/1.000+1.000 (44/44 secs)\n",
      "    Epoch 10: cost=0.000, accuracy=1.000+1.000/1.000+1.000 (43/87 secs)\n",
      "Model encdec_eng3 train ended in 87 secs:\n",
      "Model encdec_eng3 train started:\n",
      "    Epoch 5: cost=1.183, accuracy=0.546+0.104/0.528+0.110 (58/58 secs)\n",
      "    Epoch 10: cost=1.169, accuracy=0.545+0.096/0.523+0.000 (57/115 secs)\n",
      "Model encdec_eng3 train ended in 115 secs:\n",
      "Model mnist_eng test report: accuracy = 0.513+0.000, (1 secs)\n",
      "\n",
      "Model encdec_eng3 Visualization\n"
     ]
    },
    {
     "data": {
      "image/png": "[encoded data removed]",
      "text/plain": [
       "<matplotlib.figure.Figure at 0x7f1a77b1b2e8>"
      ]
     },
     "metadata": {},
     "output_type": "display_data"
    },
    {
     "name": "stdout",
     "output_type": "stream",
     "text": [
      "two### : sive##(code: 0)\n",
      "five## : sive##(code: 0)\n",
      "one### : o#####(code: 1)\n"
     ]
    }
   ],
   "source": [
    "encdec_eng3 = EncoderDecoderModel('encdec_eng3', mnist_eng, conf_eng)\n",
    "encdec_eng3.exec_3_steps(epoch_count=10, report=5)"
   ]
  },
  {
   "cell_type": "code",
   "execution_count": 6,
   "metadata": {},
   "outputs": [
    {
     "name": "stdout",
     "output_type": "stream",
     "text": [
      "Model encdec_kor2 train started:\n",
      "    Epoch 5: cost=0.548, accuracy=0.782+0.318/0.792+0.320 (78/78 secs)\n",
      "    Epoch 10: cost=0.564, accuracy=0.788+0.329/0.795+0.330 (78/156 secs)\n",
      "Model encdec_kor2 train ended in 156 secs:\n",
      "Model mnist_kor test report: accuracy = 0.803+0.371, (1 secs)\n",
      "\n",
      "Model encdec_kor2 Visualization\n"
     ]
    },
    {
     "data": {
      "image/png": "[encoded data removed]",
      "text/plain": [
       "<matplotlib.figure.Figure at 0x7f1a77b1b2e8>"
      ]
     },
     "metadata": {},
     "output_type": "display_data"
    },
    {
     "name": "stdout",
     "output_type": "stream",
     "text": [
      "삼십오# : 삼십삼#\n"
     ]
    },
    {
     "data": {
      "image/png": "[encoded data removed]",
      "text/plain": [
       "<matplotlib.figure.Figure at 0x7f19f9c06c50>"
      ]
     },
     "metadata": {},
     "output_type": "display_data"
    },
    {
     "name": "stdout",
     "output_type": "stream",
     "text": [
      "팔십## : 삼십##\n"
     ]
    },
    {
     "data": {
      "image/png": "[encoded data removed]",
      "text/plain": [
       "<matplotlib.figure.Figure at 0x7f19f9cde160>"
      ]
     },
     "metadata": {},
     "output_type": "display_data"
    },
    {
     "name": "stdout",
     "output_type": "stream",
     "text": [
      "이십삼# : 육십팔#\n"
     ]
    }
   ],
   "source": [
    "mnist_kor2 = MnistKorDataset(2)\n",
    "\n",
    "conf_kor2 = {\n",
    "    'encoder': [['seqwrap', ['full', {'width':10}]], ['full', {'width':8}]],\n",
    "    'decoder': [['lstm', {'recur_size':32, 'inseq':False,\n",
    "                          'outseq':True, 'timesteps':4}],\n",
    "                ['seqwrap', ['full', {'width':14, 'actfunc':'none'}]]]\n",
    "}\n",
    "\n",
    "encdec_kor2 = EncoderDecoderModel('encdec_kor2', mnist_kor2, conf_kor2)\n",
    "encdec_kor2.exec_1_step(epoch_count=10, report=5)"
   ]
  },
  {
   "cell_type": "code",
   "execution_count": 7,
   "metadata": {},
   "outputs": [
    {
     "name": "stdout",
     "output_type": "stream",
     "text": [
      "Model encdec_kor3 train started:\n",
      "    Epoch 5: cost=0.834, accuracy=0.675+0.037/0.690+0.050 (98/98 secs)\n",
      "    Epoch 10: cost=0.836, accuracy=0.671+0.032/0.665+0.020 (103/201 secs)\n",
      "Model encdec_kor3 train ended in 201 secs:\n",
      "Model mnist_kor test report: accuracy = 0.670+0.031, (1 secs)\n",
      "\n",
      "Model encdec_kor3 Visualization\n"
     ]
    },
    {
     "data": {
      "image/png": "[encoded data removed]",
      "text/plain": [
       "<matplotlib.figure.Figure at 0x7f1a7a8e2e80>"
      ]
     },
     "metadata": {},
     "output_type": "display_data"
    },
    {
     "name": "stdout",
     "output_type": "stream",
     "text": [
      "백##### : 백#####\n"
     ]
    },
    {
     "data": {
      "image/png": "[encoded data removed]",
      "text/plain": [
       "<matplotlib.figure.Figure at 0x7f19f9b359b0>"
      ]
     },
     "metadata": {},
     "output_type": "display_data"
    },
    {
     "name": "stdout",
     "output_type": "stream",
     "text": [
      "구백삼십육# : 칠백이십오#\n"
     ]
    },
    {
     "data": {
      "image/png": "[encoded data removed]",
      "text/plain": [
       "<matplotlib.figure.Figure at 0x7f19f9bfe2b0>"
      ]
     },
     "metadata": {},
     "output_type": "display_data"
    },
    {
     "name": "stdout",
     "output_type": "stream",
     "text": [
      "칠백이십오# : 칠백이십오#\n"
     ]
    }
   ],
   "source": [
    "mnist_kor3 = MnistKorDataset(3)\n",
    "\n",
    "conf_kor3 = {\n",
    "    'encoder': [['seqwrap', ['full', {'width':10}]], ['full', {'width':8}]],\n",
    "    'decoder': [['lstm', {'recur_size':32, 'inseq':False,\n",
    "                          'outseq':True, 'timesteps':6}],\n",
    "                ['seqwrap', ['full', {'width':14, 'actfunc':'none'}]]]\n",
    "}\n",
    "\n",
    "encdec_kor3 = EncoderDecoderModel('encdec_kor3', mnist_kor3, conf_kor3)\n",
    "encdec_kor3.exec_1_step(epoch_count=10, report=5)"
   ]
  },
  {
   "cell_type": "code",
   "execution_count": 8,
   "metadata": {},
   "outputs": [
    {
     "name": "stdout",
     "output_type": "stream",
     "text": [
      "Model encdec_kor4 train started:\n",
      "    Epoch 5: cost=1.104, accuracy=0.613+0.003/0.600+0.000 (117/117 secs)\n",
      "    Epoch 10: cost=1.126, accuracy=0.608+0.002/0.593+0.000 (119/236 secs)\n",
      "Model encdec_kor4 train ended in 236 secs:\n",
      "Model mnist_kor test report: accuracy = 0.593+0.002, (1 secs)\n",
      "\n",
      "Model encdec_kor4 Visualization\n"
     ]
    },
    {
     "data": {
      "image/png": "[encoded data removed]",
      "text/plain": [
       "<matplotlib.figure.Figure at 0x7f19f9c97ef0>"
      ]
     },
     "metadata": {},
     "output_type": "display_data"
    },
    {
     "name": "stdout",
     "output_type": "stream",
     "text": [
      "천육백육십구## : 천오백구십오##\n"
     ]
    },
    {
     "data": {
      "image/png": "[encoded data removed]",
      "text/plain": [
       "<matplotlib.figure.Figure at 0x7f19f9b23da0>"
      ]
     },
     "metadata": {},
     "output_type": "display_data"
    },
    {
     "name": "stdout",
     "output_type": "stream",
     "text": [
      "칠천오백이십## : 칠천삼백구###\n"
     ]
    },
    {
     "data": {
      "image/png": "[encoded data removed]",
      "text/plain": [
       "<matplotlib.figure.Figure at 0x7f19f9b7cda0>"
      ]
     },
     "metadata": {},
     "output_type": "display_data"
    },
    {
     "name": "stdout",
     "output_type": "stream",
     "text": [
      "구천구백이십일# : 칠천삼백사십##\n"
     ]
    }
   ],
   "source": [
    "mnist_kor4 = MnistKorDataset(4)\n",
    "\n",
    "conf_kor4 = {\n",
    "    'encoder': [['seqwrap', ['full', {'width':10}]], ['full', {'width':8}]],\n",
    "    'decoder': [['lstm', {'recur_size':32, 'inseq':False,\n",
    "                          'outseq':True, 'timesteps':8}],\n",
    "                ['seqwrap', ['full', {'width':14, 'actfunc':'none'}]]]\n",
    "}\n",
    "\n",
    "encdec_kor4 = EncoderDecoderModel('encdec_kor4', mnist_kor4, conf_kor4)\n",
    "encdec_kor4.exec_1_step(epoch_count=10, report=5)"
   ]
  }
 ],
 "metadata": {
  "kernelspec": {
   "display_name": "Python 3",
   "language": "python",
   "name": "python3"
  },
  "language_info": {
   "codemirror_mode": {
    "name": "ipython",
    "version": 3
   },
   "file_extension": ".py",
   "mimetype": "text/x-python",
   "name": "python",
   "nbconvert_exporter": "python",
   "pygments_lexer": "ipython3",
   "version": "3.4.3"
  }
 },
 "nbformat": 4,
 "nbformat_minor": 2
}
