{
 "cells": [
  {
   "cell_type": "code",
   "execution_count": null,
   "metadata": {},
   "outputs": [],
   "source": [
    "%run ../chap13/autoencoder_model.ipynb"
   ]
  },
  {
   "cell_type": "code",
   "execution_count": null,
   "metadata": {},
   "outputs": [],
   "source": [
    "class EncoderDecoderModel(RnnExtModel):\n",
    "    pass"
   ]
  },
  {
   "cell_type": "code",
   "execution_count": null,
   "metadata": {},
   "outputs": [],
   "source": [
    "def endec_init_parameters(self, hconfigs):\n",
    "    econf = hconfigs['encoder']\n",
    "    dconf = hconfigs['decoder']\n",
    "\n",
    "    in_shape = self.dataset.input_shape\n",
    "\n",
    "    pme, code_shape = self.build_subnet(econf, in_shape)\n",
    "    pmd, hidden_shape = self.build_subnet(dconf, code_shape)\n",
    "\n",
    "    self.econfigs, self.dconfigs = econf, dconf\n",
    "    self.pm_encoder, self.pm_decoder = pme, pmd\n",
    "\n",
    "EncoderDecoderModel.build_subnet = autoencoder_build_subnet\n",
    "EncoderDecoderModel.init_parameters = endec_init_parameters"
   ]
  },
  {
   "cell_type": "code",
   "execution_count": null,
   "metadata": {},
   "outputs": [],
   "source": [
    "def endec_set_train_mode(self, train_mode):\n",
    "    self.train_mode = train_mode\n",
    "    self.dataset.set_train_mode(train_mode)\n",
    "    \n",
    "def endec_step(self, epoch_count=10, batch_size=10, learning_rate=0.001,\n",
    "                 report=0, show_cnt=3, train_mode='both'):\n",
    "    self.set_train_mode(train_mode)\n",
    "    self.train(epoch_count, batch_size, learning_rate, report)\n",
    "    #self.test()\n",
    "    #if show_cnt > 0: self.visualize(show_cnt)\n",
    "\n",
    "def endec_exec_1_step(self, epoch_count=10, batch_size=10, learning_rate=0.001,\n",
    "                 report=0, show_cnt=3):\n",
    "    self.step(epoch_count, batch_size, learning_rate, report, show_cnt, 'both')\n",
    "    self.test()\n",
    "    if show_cnt > 0: self.visualize(show_cnt)\n",
    "\n",
    "def endec_exec_2_steps(self, epoch_count=10, batch_size=10, learning_rate=0.001,\n",
    "                 report=0, show_cnt=3):\n",
    "    self.step(epoch_count, batch_size, learning_rate, report, 0, 'encoder')\n",
    "    self.step(epoch_count, batch_size, learning_rate, report, show_cnt, 'decoder')\n",
    "    self.set_train_mode('both')\n",
    "    self.test()\n",
    "    if show_cnt > 0: self.visualize(show_cnt)\n",
    "\n",
    "def endec_exec_3_steps(self, epoch_count=10, batch_size=10, learning_rate=0.001,\n",
    "                 report=0, show_cnt=3):\n",
    "    self.step(epoch_count, batch_size, learning_rate, report, 0, 'encoder')\n",
    "    self.step(epoch_count, batch_size, learning_rate, report, 0, 'decoder')\n",
    "    self.step(epoch_count, batch_size, learning_rate, report, show_cnt, 'both')\n",
    "\n",
    "EncoderDecoderModel.set_train_mode = endec_set_train_mode\n",
    "EncoderDecoderModel.step = endec_step\n",
    "EncoderDecoderModel.exec_1_step = endec_exec_1_step\n",
    "EncoderDecoderModel.exec_2_steps = endec_exec_2_steps\n",
    "EncoderDecoderModel.exec_3_steps = endec_exec_3_steps"
   ]
  },
  {
   "cell_type": "code",
   "execution_count": null,
   "metadata": {},
   "outputs": [],
   "source": [
    "def endec_forward_neuralnet(self, x):\n",
    "    hidden = x\n",
    "\n",
    "    aux_encoder, aux_decoder = [], []\n",
    "\n",
    "    if self.train_mode in ['both', 'encoder']:\n",
    "        for n, hconfig in enumerate(self.econfigs):\n",
    "            hidden, aux = self.forward_layer(hidden, hconfig, self.pm_encoder[n])\n",
    "            aux_encoder.append(aux)\n",
    "\n",
    "    if self.train_mode in ['both', 'decoder']:\n",
    "        for n, hconfig in enumerate(self.dconfigs):\n",
    "            hidden, aux = self.forward_layer(hidden, hconfig, self.pm_decoder[n])\n",
    "            aux_decoder.append(aux)\n",
    "\n",
    "    output = hidden\n",
    "    \n",
    "    return output, [aux_encoder, aux_decoder]\n",
    "\n",
    "EncoderDecoderModel.forward_neuralnet = endec_forward_neuralnet"
   ]
  },
  {
   "cell_type": "code",
   "execution_count": null,
   "metadata": {},
   "outputs": [],
   "source": [
    "def endec_backprop_neuralnet(self, G_output, aux):\n",
    "    aux_encoder, aux_decoder = aux\n",
    "    \n",
    "    G_hidden = G_output\n",
    "    \n",
    "    if self.train_mode in ['both', 'decoder']:\n",
    "        for n in reversed(range(len(self.dconfigs))):\n",
    "            hconfig, pm, aux = self.dconfigs[n], self.pm_decoder[n], aux_decoder[n]\n",
    "            G_hidden = self.backprop_layer(G_hidden, hconfig, pm, aux)\n",
    "\n",
    "    if self.train_mode in ['both', 'encoder']:\n",
    "        for n in reversed(range(len(self.econfigs))):\n",
    "            hconfig, pm, aux = self.econfigs[n], self.pm_encoder[n], aux_encoder[n]\n",
    "            G_hidden = self.backprop_layer(G_hidden, hconfig, pm, aux)\n",
    "\n",
    "    return G_hidden\n",
    "\n",
    "EncoderDecoderModel.backprop_neuralnet = endec_backprop_neuralnet"
   ]
  },
  {
   "cell_type": "code",
   "execution_count": null,
   "metadata": {},
   "outputs": [],
   "source": [
    "def endec_visualize(self, num):\n",
    "    print('Model {} Visualization'.format(self.name))\n",
    "    self.set_train_mode('both')\n",
    "    deX, deY = self.dataset.get_visualize_data(num)\n",
    "    self.set_train_mode('encoder')\n",
    "    code, _ = self.forward_neuralnet(deX)\n",
    "    self.set_train_mode('decoder')\n",
    "    output, _ = self.forward_neuralnet(code)\n",
    "    self.dataset.visualize(deX, code, output, deY)\n",
    "\n",
    "EncoderDecoderModel.visualize = endec_visualize"
   ]
  },
  {
   "cell_type": "code",
   "execution_count": null,
   "metadata": {},
   "outputs": [],
   "source": [
    "def endec_collect_params(self):\n",
    "    params = []\n",
    "\n",
    "    endec_collect_params_in_list(params, self.pm_encoder)\n",
    "    endec_collect_params_in_list(params, self.pm_decoder)\n",
    "    \n",
    "    return params\n",
    "    \n",
    "def endec_collect_params_in_list(params, pms):\n",
    "    for pm in pms:\n",
    "        if isinstance(pm, list):\n",
    "            endec_collect_params_in_list(params, pm)\n",
    "        elif 'w' in pm: params += list(pm['w'].flatten())\n",
    "        elif 'k' in pm: params += list(pm['k'].flatten())\n",
    "\n",
    "EncoderDecoderModel.collect_params = endec_collect_params"
   ]
  }
 ],
 "metadata": {
  "kernelspec": {
   "display_name": "Python 3",
   "language": "python",
   "name": "python3"
  },
  "language_info": {
   "codemirror_mode": {
    "name": "ipython",
    "version": 3
   },
   "file_extension": ".py",
   "mimetype": "text/x-python",
   "name": "python",
   "nbconvert_exporter": "python",
   "pygments_lexer": "ipython3",
   "version": "3.4.3"
  }
 },
 "nbformat": 4,
 "nbformat_minor": 2
}
